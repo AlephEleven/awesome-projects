{
 "cells": [
  {
   "cell_type": "code",
   "execution_count": null,
   "metadata": {},
   "outputs": [],
   "source": []
  },
  {
   "cell_type": "code",
   "execution_count": 1,
   "metadata": {},
   "outputs": [],
   "source": [
    "from sympy import *\n",
    "from math import *\n",
    "x, y = Symbol('x'), Symbol('y')\n",
    "\n",
    "from sympy.plotting import plot\n",
    "\n",
    "from sympy.vector import Vector\n",
    "from sympy.vector import CoordSys3D\n",
    "\n",
    "from sympy.geometry import Point\n",
    "\n",
    "N = CoordSys3D('N')\n"
   ]
  },
  {
   "cell_type": "code",
   "execution_count": 2,
   "metadata": {},
   "outputs": [],
   "source": [
    "class taylor_polys:\n",
    "    def __init__(self):\n",
    "        pass\n",
    "    \n",
    "    def taylor_eval(self, f, a, n):\n",
    "        \"\"\"\n",
    "        Evaluates the Taylor Polynomial of a given function n times centered around a\n",
    "\n",
    "        A Taylor polynomial is defined as:\n",
    "                n\n",
    "        Pn(x) = Σ((deriv(f(a), i)(x-a)^n)/(n!))\n",
    "               i=0\n",
    "        \n",
    "        f = function\n",
    "        n = # of iterations\n",
    "        a = center point\n",
    "\n",
    "        Ex: P2(x) @ a = 3\n",
    "\n",
    "        = ((deriv(f(a), 0)(x-3)^0)/(0!)) + ((deriv(f(a), 1)(x-3)^1)/(1!)) + ((deriv(f(a), 2)(x-3)^2)/(2!))\n",
    "        = 0 + deriv(f(a), 1)(x-3) + ((deriv(f(a), 2)(x-3)^2)/6)\n",
    "        \"\"\"\n",
    "        return sum([(lambdify(x, diff(f, x, i))(a)*(x-a)**i)/(factorial(i)) for i in range(n+1)])\n",
    "    \n",
    "    def langr_error(self, f, a, n, x_est):\n",
    "        \"\"\"\n",
    "        Evaluates the Langrange Error of a function given an estimate of x \n",
    "        \n",
    "        The Langrange Error Bound for Pn(x) is defined as:\n",
    "        \n",
    "        abs(En(x)) = abs(f(x) - Pn(x)) <= (M*(abs(x-a))**n+1)/((n+1)!)\n",
    "        \n",
    "        M = max(deriv(f(abs(a)), n+1), deriv(f(abs(x_est)), n+1))\n",
    "        \n",
    "        M = is the bigger # between the n+1th derivative of the function of the absolute values of a and the estimate of x\n",
    "        x_est = the estimate of x\n",
    "        \n",
    "        \"\"\"\n",
    "        \n",
    "        M = max(lambdify(x, diff(f, x, n+1))(abs(a)),lambdify(x, diff(f, x, n+1))(abs(x_est)))\n",
    "        return (M*(abs(x_est-a)**(n+1)))/(factorial(n+1)) "
   ]
  },
  {
   "cell_type": "code",
   "execution_count": 5,
   "metadata": {},
   "outputs": [
    {
     "data": {
      "text/plain": [
       "4.6048788253152e-06"
      ]
     },
     "execution_count": 5,
     "metadata": {},
     "output_type": "execute_result"
    }
   ],
   "source": [
    "model = taylor_polys()\n",
    "model.langr_error(e**x, 0, 3, -.1)"
   ]
  },
  {
   "cell_type": "code",
   "execution_count": 74,
   "metadata": {},
   "outputs": [
    {
     "data": {
      "text/latex": [
       "$\\displaystyle 41 x + 16 \\left(x - 2\\right)^{2} - 48$"
      ],
      "text/plain": [
       "41*x + 16*(x - 2)**2 - 48"
      ]
     },
     "execution_count": 74,
     "metadata": {},
     "output_type": "execute_result"
    }
   ],
   "source": [
    "ans_eq = 2*x**3 + 4*x**2 + 1*x\n",
    "approx_eq = model.taylor_eval(ans_eq,2,2)\n",
    "approx_eq"
   ]
  },
  {
   "cell_type": "code",
   "execution_count": 75,
   "metadata": {
    "scrolled": true
   },
   "outputs": [
    {
     "data": {
      "image/png": "[encoded data removed]",
      "text/plain": [
       "<Figure size 432x288 with 1 Axes>"
      ]
     },
     "metadata": {
      "needs_background": "light"
     },
     "output_type": "display_data"
    },
    {
     "data": {
      "text/plain": [
       "<sympy.plotting.plot.Plot at 0x19f327476d0>"
      ]
     },
     "execution_count": 75,
     "metadata": {},
     "output_type": "execute_result"
    }
   ],
   "source": [
    "\n",
    "plot(approx_eq ,ans_eq, xlim=[-10,10], ylim=[-10,10])"
   ]
  },
  {
   "cell_type": "code",
   "execution_count": 19,
   "metadata": {},
   "outputs": [
    {
     "data": {
      "text/plain": [
       "1"
      ]
     },
     "execution_count": 19,
     "metadata": {},
     "output_type": "execute_result"
    }
   ],
   "source": [
    "testeq = lambdify([x,y],x**y)(1,1)\n",
    "testeq"
   ]
  },
  {
   "cell_type": "code",
   "execution_count": 9,
   "metadata": {},
   "outputs": [
    {
     "data": {
      "text/plain": [
       "[-sqrt(2*x + 3), sqrt(2*x + 3)]"
      ]
     },
     "execution_count": 9,
     "metadata": {},
     "output_type": "execute_result"
    }
   ],
   "source": [
    "eq1 = Eq(y**2, 2*x+3)\n",
    "solve(eq1,y)"
   ]
  },
  {
   "cell_type": "code",
   "execution_count": 10,
   "metadata": {},
   "outputs": [],
   "source": [
    "n = Symbol('n')\n",
    "def ratio_test(eq):\n",
    "    \n",
    "    ans = solveset(abs(limit(eq.subs(n,n+1)/eq, n, float('inf'))) < 1, x, S.Reals)\n",
    "    return ans, (ans.end-ans.start)/2"
   ]
  },
  {
   "cell_type": "code",
   "execution_count": 11,
   "metadata": {},
   "outputs": [
    {
     "data": {
      "text/plain": [
       "(Interval.open(1/2, 5/2), 1)"
      ]
     },
     "execution_count": 11,
     "metadata": {},
     "output_type": "execute_result"
    }
   ],
   "source": [
    "ratio_test(((1)**n*(2*x-3)**(n+1))/(2**n*(n+1)))"
   ]
  },
  {
   "cell_type": "code",
   "execution_count": 12,
   "metadata": {},
   "outputs": [],
   "source": [
    "def projAtoB(a, b): return (a.dot(b)/(b.magnitude()**2)) * b"
   ]
  },
  {
   "cell_type": "code",
   "execution_count": 13,
   "metadata": {},
   "outputs": [
    {
     "data": {
      "text/latex": [
       "$\\displaystyle (\\frac{10}{9})\\mathbf{\\hat{i}_{N}} + (\\frac{5}{9})\\mathbf{\\hat{j}_{N}} + (- \\frac{10}{9})\\mathbf{\\hat{k}_{N}}$"
      ],
      "text/plain": [
       "10/9*N.i + 5/9*N.j + (-10/9)*N.k"
      ]
     },
     "execution_count": 13,
     "metadata": {},
     "output_type": "execute_result"
    }
   ],
   "source": [
    "a = 6*N.i - 3*N.j + 2*N.k\n",
    "b = 2*N.i + 1*N.j - 2*N.k\n",
    "projAtoB(a, b)"
   ]
  },
  {
   "cell_type": "code",
   "execution_count": 14,
   "metadata": {},
   "outputs": [],
   "source": [
    "t = Symbol('t')\n",
    "def collision_test(p1, p2):\n",
    "    # Collision Test\n",
    "    \n",
    "    col = dict((str(x), solve(Eq(p1[x], p2[x]))) for x in range(3))\n",
    "    \n",
    "    for i in col['0']:\n",
    "        if i in col['1'] and i in col['2']:\n",
    "            return Point([lambdify(t,p1[x])(i) for x in range(3)]),True\n",
    "        \n",
    "    return (None, False)"
   ]
  },
  {
   "cell_type": "code",
   "execution_count": 15,
   "metadata": {},
   "outputs": [
    {
     "data": {
      "text/plain": [
       "(Point3D(1/2, 1/4, 1/8), True)"
      ]
     },
     "execution_count": 15,
     "metadata": {},
     "output_type": "execute_result"
    }
   ],
   "source": [
    "pointA = Point(t, t**2, t**3)\n",
    "pointB = Point(1 - t, (1-t)/2, (1-t)/4)\n",
    "\n",
    "collision_test(pointA, pointB)"
   ]
  },
  {
   "cell_type": "code",
   "execution_count": 19,
   "metadata": {},
   "outputs": [],
   "source": [
    "def normalize(x):\n",
    "    return x/x.magnitude()"
   ]
  },
  {
   "cell_type": "code",
   "execution_count": 20,
   "metadata": {},
   "outputs": [
    {
     "data": {
      "text/latex": [
       "$\\displaystyle (\\frac{\\sqrt{3}}{3})\\mathbf{\\hat{i}_{N}} + (\\frac{\\sqrt{3}}{3})\\mathbf{\\hat{j}_{N}} + (- \\frac{\\sqrt{3}}{3})\\mathbf{\\hat{k}_{N}}$"
      ],
      "text/plain": [
       "(sqrt(3)/3)*N.i + (sqrt(3)/3)*N.j + (-sqrt(3)/3)*N.k"
      ]
     },
     "execution_count": 20,
     "metadata": {},
     "output_type": "execute_result"
    }
   ],
   "source": [
    "a = 1*N.i + 1*N.j - 1*N.k \n",
    "normalize(a)"
   ]
  },
  {
   "cell_type": "code",
   "execution_count": null,
   "metadata": {},
   "outputs": [],
   "source": []
  }
 ],
 "metadata": {
  "kernelspec": {
   "display_name": "Python 3",
   "language": "python",
   "name": "python3"
  },
  "language_info": {
   "codemirror_mode": {
    "name": "ipython",
    "version": 3
   },
   "file_extension": ".py",
   "mimetype": "text/x-python",
   "name": "python",
   "nbconvert_exporter": "python",
   "pygments_lexer": "ipython3",
   "version": "3.8.6"
  }
 },
 "nbformat": 4,
 "nbformat_minor": 4
}
